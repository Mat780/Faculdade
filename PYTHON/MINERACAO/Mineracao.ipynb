{
 "cells": [
  {
   "cell_type": "code",
   "execution_count": 5,
   "metadata": {},
   "outputs": [
    {
     "name": "stdout",
     "output_type": "stream",
     "text": [
      "Requirement already satisfied: pygithub in c:\\users\\user\\appdata\\local\\programs\\python\\python310\\lib\\site-packages (1.55)\n",
      "Requirement already satisfied: deprecated in c:\\users\\user\\appdata\\local\\programs\\python\\python310\\lib\\site-packages (from pygithub) (1.2.13)\n",
      "Requirement already satisfied: pyjwt>=2.0 in c:\\users\\user\\appdata\\local\\programs\\python\\python310\\lib\\site-packages (from pygithub) (2.4.0)\n",
      "Requirement already satisfied: requests>=2.14.0 in c:\\users\\user\\appdata\\local\\programs\\python\\python310\\lib\\site-packages (from pygithub) (2.28.0)\n",
      "Requirement already satisfied: pynacl>=1.4.0 in c:\\users\\user\\appdata\\local\\programs\\python\\python310\\lib\\site-packages (from pygithub) (1.5.0)\n",
      "Requirement already satisfied: cffi>=1.4.1 in c:\\users\\user\\appdata\\local\\programs\\python\\python310\\lib\\site-packages (from pynacl>=1.4.0->pygithub) (1.15.0)\n",
      "Requirement already satisfied: certifi>=2017.4.17 in c:\\users\\user\\appdata\\local\\programs\\python\\python310\\lib\\site-packages (from requests>=2.14.0->pygithub) (2022.6.15)\n",
      "Requirement already satisfied: idna<4,>=2.5 in c:\\users\\user\\appdata\\local\\programs\\python\\python310\\lib\\site-packages (from requests>=2.14.0->pygithub) (3.3)\n",
      "Requirement already satisfied: charset-normalizer~=2.0.0 in c:\\users\\user\\appdata\\local\\programs\\python\\python310\\lib\\site-packages (from requests>=2.14.0->pygithub) (2.0.12)\n",
      "Requirement already satisfied: urllib3<1.27,>=1.21.1 in c:\\users\\user\\appdata\\local\\programs\\python\\python310\\lib\\site-packages (from requests>=2.14.0->pygithub) (1.26.9)\n",
      "Requirement already satisfied: wrapt<2,>=1.10 in c:\\users\\user\\appdata\\local\\programs\\python\\python310\\lib\\site-packages (from deprecated->pygithub) (1.14.1)\n",
      "Requirement already satisfied: pycparser in c:\\users\\user\\appdata\\local\\programs\\python\\python310\\lib\\site-packages (from cffi>=1.4.1->pynacl>=1.4.0->pygithub) (2.21)\n",
      "Note: you may need to restart the kernel to use updated packages.\n"
     ]
    }
   ],
   "source": [
    "pip install pygithub"
   ]
  },
  {
   "cell_type": "code",
   "execution_count": 4,
   "metadata": {},
   "outputs": [
    {
     "name": "stdout",
     "output_type": "stream",
     "text": [
      "Requirement already satisfied: pandas in c:\\users\\user\\appdata\\local\\programs\\python\\python310\\lib\\site-packages (1.4.3)\n",
      "Requirement already satisfied: pytz>=2020.1 in c:\\users\\user\\appdata\\local\\programs\\python\\python310\\lib\\site-packages (from pandas) (2022.1)\n",
      "Requirement already satisfied: numpy>=1.21.0 in c:\\users\\user\\appdata\\local\\programs\\python\\python310\\lib\\site-packages (from pandas) (1.23.0)\n",
      "Requirement already satisfied: python-dateutil>=2.8.1 in c:\\users\\user\\appdata\\local\\programs\\python\\python310\\lib\\site-packages (from pandas) (2.8.2)\n",
      "Requirement already satisfied: six>=1.5 in c:\\users\\user\\appdata\\local\\programs\\python\\python310\\lib\\site-packages (from python-dateutil>=2.8.1->pandas) (1.16.0)\n",
      "Note: you may need to restart the kernel to use updated packages.\n"
     ]
    }
   ],
   "source": [
    "pip install pandas"
   ]
  },
  {
   "cell_type": "code",
   "execution_count": 1,
   "metadata": {},
   "outputs": [
    {
     "name": "stdout",
     "output_type": "stream",
     "text": [
      "Requirement already satisfied: openpyxl in c:\\users\\user\\appdata\\local\\programs\\python\\python310\\lib\\site-packages (3.0.10)\n",
      "Requirement already satisfied: et-xmlfile in c:\\users\\user\\appdata\\local\\programs\\python\\python310\\lib\\site-packages (from openpyxl) (1.1.0)\n",
      "Note: you may need to restart the kernel to use updated packages.\n"
     ]
    }
   ],
   "source": [
    "pip install openpyxl"
   ]
  },
  {
   "cell_type": "code",
   "execution_count": 2,
   "metadata": {},
   "outputs": [
    {
     "name": "stdout",
     "output_type": "stream",
     "text": [
      "Collecting mutagen\n",
      "  Downloading mutagen-1.45.1-py3-none-any.whl (218 kB)\n",
      "     -------------------------------------- 218.7/218.7 kB 1.5 MB/s eta 0:00:00\n",
      "Installing collected packages: mutagen\n",
      "Successfully installed mutagen-1.45.1\n",
      "Note: you may need to restart the kernel to use updated packages.\n"
     ]
    }
   ],
   "source": [
    "pip install mutagen"
   ]
  },
  {
   "cell_type": "code",
   "execution_count": 3,
   "metadata": {},
   "outputs": [
    {
     "name": "stdout",
     "output_type": "stream",
     "text": [
      "Collecting pygame\n",
      "  Downloading pygame-2.1.2-cp310-cp310-win_amd64.whl (8.4 MB)\n",
      "     ---------------------------------------- 8.4/8.4 MB 5.3 MB/s eta 0:00:00\n",
      "Installing collected packages: pygame\n",
      "Successfully installed pygame-2.1.2\n",
      "Note: you may need to restart the kernel to use updated packages.\n"
     ]
    }
   ],
   "source": [
    "pip install pygame"
   ]
  },
  {
   "cell_type": "code",
   "execution_count": 8,
   "metadata": {},
   "outputs": [],
   "source": [
    "from github import Github\n",
    "chave = \"\"\n",
    "login = Github(chave)"
   ]
  },
  {
   "cell_type": "code",
   "execution_count": 108,
   "metadata": {},
   "outputs": [
    {
     "data": {
      "text/plain": [
       "RateLimit(core=Rate(reset=2022-06-27 00:26:17, remaining=2201, limit=5000))"
      ]
     },
     "execution_count": 108,
     "metadata": {},
     "output_type": "execute_result"
    }
   ],
   "source": [
    "login.get_rate_limit()"
   ]
  },
  {
   "cell_type": "code",
   "execution_count": 109,
   "metadata": {},
   "outputs": [],
   "source": [
    "repositorio = login.get_repo(\"nodejs/node\")\n",
    "limite_inferior = 31000 #Entra\n",
    "limite_superior = 31500 #Não Entra"
   ]
  },
  {
   "cell_type": "code",
   "execution_count": 110,
   "metadata": {},
   "outputs": [],
   "source": [
    "#Rodar todas as vezes que iniciar uma nova requisição\n",
    "#Se travar no meio de uma requisição, altera o limite inferior para onde parou (Valor contador), e não roda essa parte\n",
    "dataframe = list()"
   ]
  },
  {
   "cell_type": "code",
   "execution_count": 111,
   "metadata": {},
   "outputs": [
    {
     "data": {
      "text/plain": [
       "42212"
      ]
     },
     "execution_count": 111,
     "metadata": {},
     "output_type": "execute_result"
    }
   ],
   "source": [
    "repositorio.get_issues(state = 'all').totalCount"
   ]
  },
  {
   "cell_type": "code",
   "execution_count": 112,
   "metadata": {},
   "outputs": [],
   "source": [
    "for contador, issue in enumerate(repositorio.get_issues(state = 'all')):\n",
    "    if contador < limite_inferior:\n",
    "        pass\n",
    "    \n",
    "    elif issue.pull_request is not None:\n",
    "        pass\n",
    "\n",
    "    elif contador >= limite_superior:\n",
    "        break\n",
    "\n",
    "    else:\n",
    "        id_issue = issue.id\n",
    "        link_issue = issue.html_url\n",
    "        autor = issue.user.id\n",
    "        data_abertura = issue.created_at.strftime(\"%d/%m/%Y\")\n",
    "\n",
    "        data_fechamento = issue.closed_at\n",
    "\n",
    "        if data_fechamento != None:\n",
    "            data_fechamento = data_fechamento.strftime(\"%d/%m/%Y\")\n",
    "        else:\n",
    "            data_fechamento = \"Não Concluída\"\n",
    "\n",
    "        for comment in issue.get_comments():\n",
    "            usuario = comment.user.id\n",
    "            \n",
    "            dataframe.append(\n",
    "                {\n",
    "                    'ID_ISSUE': id_issue,\n",
    "                    'LINK': link_issue,\n",
    "                    'AUTOR': autor,\n",
    "                    'DATA_ABERTURA': data_abertura,\n",
    "                    'DATA_FECHAMENTO': data_fechamento,\n",
    "                    'USUARIO_COMENTARIO': usuario\n",
    "                }\n",
    "            )"
   ]
  },
  {
   "cell_type": "code",
   "execution_count": 113,
   "metadata": {},
   "outputs": [
    {
     "data": {
      "text/plain": [
       "31503"
      ]
     },
     "execution_count": 113,
     "metadata": {},
     "output_type": "execute_result"
    }
   ],
   "source": [
    "# Onde parou com requisicoes\n",
    "contador"
   ]
  },
  {
   "cell_type": "code",
   "execution_count": 114,
   "metadata": {},
   "outputs": [],
   "source": [
    "import pandas as pd\n",
    "\n",
    "df = pd.DataFrame(dataframe)"
   ]
  },
  {
   "cell_type": "code",
   "execution_count": 115,
   "metadata": {},
   "outputs": [
    {
     "data": {
      "text/html": [
       "<div>\n",
       "<style scoped>\n",
       "    .dataframe tbody tr th:only-of-type {\n",
       "        vertical-align: middle;\n",
       "    }\n",
       "\n",
       "    .dataframe tbody tr th {\n",
       "        vertical-align: top;\n",
       "    }\n",
       "\n",
       "    .dataframe thead th {\n",
       "        text-align: right;\n",
       "    }\n",
       "</style>\n",
       "<table border=\"1\" class=\"dataframe\">\n",
       "  <thead>\n",
       "    <tr style=\"text-align: right;\">\n",
       "      <th></th>\n",
       "      <th>ID_ISSUE</th>\n",
       "      <th>LINK</th>\n",
       "      <th>AUTOR</th>\n",
       "      <th>DATA_ABERTURA</th>\n",
       "      <th>DATA_FECHAMENTO</th>\n",
       "      <th>USUARIO_COMENTARIO</th>\n",
       "    </tr>\n",
       "  </thead>\n",
       "  <tbody>\n",
       "    <tr>\n",
       "      <th>0</th>\n",
       "      <td>206665826</td>\n",
       "      <td>https://github.com/nodejs/node/issues/11276</td>\n",
       "      <td>10137</td>\n",
       "      <td>09/02/2017</td>\n",
       "      <td>09/02/2017</td>\n",
       "      <td>54666</td>\n",
       "    </tr>\n",
       "    <tr>\n",
       "      <th>1</th>\n",
       "      <td>206642170</td>\n",
       "      <td>https://github.com/nodejs/node/issues/11273</td>\n",
       "      <td>439929</td>\n",
       "      <td>09/02/2017</td>\n",
       "      <td>31/03/2019</td>\n",
       "      <td>71882</td>\n",
       "    </tr>\n",
       "    <tr>\n",
       "      <th>2</th>\n",
       "      <td>206642170</td>\n",
       "      <td>https://github.com/nodejs/node/issues/11273</td>\n",
       "      <td>439929</td>\n",
       "      <td>09/02/2017</td>\n",
       "      <td>31/03/2019</td>\n",
       "      <td>4299420</td>\n",
       "    </tr>\n",
       "    <tr>\n",
       "      <th>3</th>\n",
       "      <td>206642170</td>\n",
       "      <td>https://github.com/nodejs/node/issues/11273</td>\n",
       "      <td>439929</td>\n",
       "      <td>09/02/2017</td>\n",
       "      <td>31/03/2019</td>\n",
       "      <td>4299420</td>\n",
       "    </tr>\n",
       "    <tr>\n",
       "      <th>4</th>\n",
       "      <td>206642170</td>\n",
       "      <td>https://github.com/nodejs/node/issues/11273</td>\n",
       "      <td>439929</td>\n",
       "      <td>09/02/2017</td>\n",
       "      <td>31/03/2019</td>\n",
       "      <td>439929</td>\n",
       "    </tr>\n",
       "    <tr>\n",
       "      <th>...</th>\n",
       "      <td>...</td>\n",
       "      <td>...</td>\n",
       "      <td>...</td>\n",
       "      <td>...</td>\n",
       "      <td>...</td>\n",
       "      <td>...</td>\n",
       "    </tr>\n",
       "    <tr>\n",
       "      <th>945</th>\n",
       "      <td>200614896</td>\n",
       "      <td>https://github.com/nodejs/node/issues/10787</td>\n",
       "      <td>533294</td>\n",
       "      <td>13/01/2017</td>\n",
       "      <td>17/01/2017</td>\n",
       "      <td>1443911</td>\n",
       "    </tr>\n",
       "    <tr>\n",
       "      <th>946</th>\n",
       "      <td>200614896</td>\n",
       "      <td>https://github.com/nodejs/node/issues/10787</td>\n",
       "      <td>533294</td>\n",
       "      <td>13/01/2017</td>\n",
       "      <td>17/01/2017</td>\n",
       "      <td>1443911</td>\n",
       "    </tr>\n",
       "    <tr>\n",
       "      <th>947</th>\n",
       "      <td>200614896</td>\n",
       "      <td>https://github.com/nodejs/node/issues/10787</td>\n",
       "      <td>533294</td>\n",
       "      <td>13/01/2017</td>\n",
       "      <td>17/01/2017</td>\n",
       "      <td>533294</td>\n",
       "    </tr>\n",
       "    <tr>\n",
       "      <th>948</th>\n",
       "      <td>200541256</td>\n",
       "      <td>https://github.com/nodejs/node/issues/10782</td>\n",
       "      <td>317571</td>\n",
       "      <td>13/01/2017</td>\n",
       "      <td>29/04/2017</td>\n",
       "      <td>899444</td>\n",
       "    </tr>\n",
       "    <tr>\n",
       "      <th>949</th>\n",
       "      <td>200541256</td>\n",
       "      <td>https://github.com/nodejs/node/issues/10782</td>\n",
       "      <td>317571</td>\n",
       "      <td>13/01/2017</td>\n",
       "      <td>29/04/2017</td>\n",
       "      <td>899444</td>\n",
       "    </tr>\n",
       "  </tbody>\n",
       "</table>\n",
       "<p>950 rows × 6 columns</p>\n",
       "</div>"
      ],
      "text/plain": [
       "      ID_ISSUE                                         LINK   AUTOR  \\\n",
       "0    206665826  https://github.com/nodejs/node/issues/11276   10137   \n",
       "1    206642170  https://github.com/nodejs/node/issues/11273  439929   \n",
       "2    206642170  https://github.com/nodejs/node/issues/11273  439929   \n",
       "3    206642170  https://github.com/nodejs/node/issues/11273  439929   \n",
       "4    206642170  https://github.com/nodejs/node/issues/11273  439929   \n",
       "..         ...                                          ...     ...   \n",
       "945  200614896  https://github.com/nodejs/node/issues/10787  533294   \n",
       "946  200614896  https://github.com/nodejs/node/issues/10787  533294   \n",
       "947  200614896  https://github.com/nodejs/node/issues/10787  533294   \n",
       "948  200541256  https://github.com/nodejs/node/issues/10782  317571   \n",
       "949  200541256  https://github.com/nodejs/node/issues/10782  317571   \n",
       "\n",
       "    DATA_ABERTURA DATA_FECHAMENTO  USUARIO_COMENTARIO  \n",
       "0      09/02/2017      09/02/2017               54666  \n",
       "1      09/02/2017      31/03/2019               71882  \n",
       "2      09/02/2017      31/03/2019             4299420  \n",
       "3      09/02/2017      31/03/2019             4299420  \n",
       "4      09/02/2017      31/03/2019              439929  \n",
       "..            ...             ...                 ...  \n",
       "945    13/01/2017      17/01/2017             1443911  \n",
       "946    13/01/2017      17/01/2017             1443911  \n",
       "947    13/01/2017      17/01/2017              533294  \n",
       "948    13/01/2017      29/04/2017              899444  \n",
       "949    13/01/2017      29/04/2017              899444  \n",
       "\n",
       "[950 rows x 6 columns]"
      ]
     },
     "execution_count": 115,
     "metadata": {},
     "output_type": "execute_result"
    }
   ],
   "source": [
    "df"
   ]
  },
  {
   "cell_type": "code",
   "execution_count": 116,
   "metadata": {},
   "outputs": [],
   "source": [
    "df.to_excel('ISSUE {}.xlsx'.format(limite_superior / 1000))"
   ]
  },
  {
   "cell_type": "code",
   "execution_count": 117,
   "metadata": {},
   "outputs": [],
   "source": [
    "import time\n",
    "from mutagen.mp3 import MP3\n",
    "import pygame\n",
    "\n",
    "def reproduzir_audio(caminho):\n",
    "    audio = MP3(caminho)\n",
    "    pygame.mixer.init()\n",
    "    pygame.mixer.music.load(caminho)\n",
    "    pygame.mixer.music.play()\n",
    "    time.sleep(audio.info.length)\n",
    "    pygame.mixer.quit()\n",
    "    return\n",
    "\n",
    "reproduzir_audio(\"EtapaConcluida.mp3\")"
   ]
  }
 ],
 "metadata": {
  "kernelspec": {
   "display_name": "Python 3.10.3 64-bit",
   "language": "python",
   "name": "python3"
  },
  "language_info": {
   "codemirror_mode": {
    "name": "ipython",
    "version": 3
   },
   "file_extension": ".py",
   "mimetype": "text/x-python",
   "name": "python",
   "nbconvert_exporter": "python",
   "pygments_lexer": "ipython3",
   "version": "3.10.3"
  },
  "orig_nbformat": 4,
  "vscode": {
   "interpreter": {
    "hash": "afb734500600fd355917ca529030176ea0ca205570884b88f2f6f7d791fd3fbe"
   }
  }
 },
 "nbformat": 4,
 "nbformat_minor": 2
}
